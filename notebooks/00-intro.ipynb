{
 "cells": [
  {
   "cell_type": "markdown",
   "id": "5b664a3d",
   "metadata": {},
   "source": [
    "# Introduction to Python and Computational Nuclear Engineering"
   ]
  },
  {
   "cell_type": "markdown",
   "id": "afce07eb",
   "metadata": {},
   "source": [
    "The following project uses Jupyter notebook as an interactive platform to introduce some basic computational nuclear engineering concepts and execute them using the python coding language."
   ]
  },
  {
   "cell_type": "markdown",
   "id": "858526eb",
   "metadata": {},
   "source": [
    "### Variables and Mathematical Operations\n",
    "\n",
    "This section is a brief introduction to some principles of coding that you'll need to know to solve the problems in the subsequent sections.  First, we're going through these exercises in something called a `Jupyter Notebook`. Each cell with  `In [ ]:` next to it is a cell that we can execute code in. To execute that code (or load it so that it is stored in our computer's memory), you click on the cell and then push `Shift`+`Enter`.  Try it with the next cell. \n"
   ]
  },
  {
   "cell_type": "code",
   "execution_count": null,
   "id": "c4be2a48",
   "metadata": {},
   "outputs": [],
   "source": [
    "a = 3   # my variable is a and it is equal to 3"
   ]
  },
  {
   "cell_type": "markdown",
   "id": "acdf9ca3",
   "metadata": {},
   "source": [
    "Great! If you have executed this cell, there should be a number, and `In [ ]:` should have changed to `In [1]:`, meaning that this is the first cell that you've executed in the notebook. As you execute more cells, the numbers inside them will increment accordingly. \n",
    "\n",
    "In this last cell we've also *defined our first variable*. Here we've set the variable `a` equal to the number 3. We can call that variable again in the future by putting it in a cell and executing it again. \n",
    "\n",
    "You may also see some teal text following a `#` character. This is how we comment code in Python. Any content on a line that comes after a pound or hash symbol is interpreted as a comment and is not interpreted by the computer. This is helpful when we write code to remind ourselves of what our code is doing, especially in complicated places where lots of stuff might be going on. "
   ]
  },
  {
   "cell_type": "code",
   "execution_count": null,
   "id": "46f47d27",
   "metadata": {},
   "outputs": [],
   "source": [
    "a"
   ]
  },
  {
   "cell_type": "markdown",
   "id": "d8fedb57",
   "metadata": {},
   "source": [
    "Below the previous cell, you should see `Out[2]: 3`, meaning that the output of the second cell executed is 3. In other words, the variable `a` is 3. In the first cell that we executed we loaded our variable into memory. In the subsequent cell we returned the contents of our variable `a`. Sometimes it is helpful to check our variables this way in case we've accidentally changed a variable's value without realizing it. This is a good way to double-check things. "
   ]
  },
  {
   "cell_type": "markdown",
   "id": "7ba429da",
   "metadata": {},
   "source": [
    "Ok, that's cool, but what happens if I reference my variable a again and use a different number? "
   ]
  },
  {
   "cell_type": "code",
   "execution_count": null,
   "id": "6e18ee60",
   "metadata": {},
   "outputs": [],
   "source": [
    "a=6\n",
    "print(a)"
   ]
  },
  {
   "cell_type": "markdown",
   "id": "bec4afd5",
   "metadata": {},
   "source": [
    "## Think-Pair-Share\n",
    "\n",
    "What do you think this means when you choose to name your variables?"
   ]
  },
  {
   "cell_type": "markdown",
   "id": "6d90e331",
   "metadata": {},
   "source": [
    "\n",
    "We can use Python to do a lot more than just define variables. It can do all sorts of math. If we execute these cells, we'll see the solution in the output of each cell based on the variable assigned to a. "
   ]
  },
  {
   "cell_type": "code",
   "execution_count": null,
   "id": "508f4cfe",
   "metadata": {},
   "outputs": [],
   "source": [
    "a*6"
   ]
  },
  {
   "cell_type": "code",
   "execution_count": null,
   "id": "ac54763b",
   "metadata": {},
   "outputs": [],
   "source": [
    "a*12/333"
   ]
  },
  {
   "cell_type": "code",
   "execution_count": null,
   "id": "e257de78",
   "metadata": {},
   "outputs": [],
   "source": [
    "(a+a+2+9)*22/10000"
   ]
  },
  {
   "cell_type": "markdown",
   "id": "12cb740f",
   "metadata": {},
   "source": [
    "\n",
    "For reference, the following symbols can be used to do basic mathematical operations in Python\n",
    "\n",
    "* \\* is used for multiplication, e.g. $a \\times b$\n",
    "* \\+ is used for addition, e.g. $a + b$ \n",
    "* \\- is used for subtraction, e.g. $a - b$\n",
    "* / is used for division, e.g. $\\frac{a}{b}$ \n",
    "* \\*\\* is used for exponents, e.g. $a^b$. You may also find it helpful to use scientific notation to express large numbers. For example $10^2$ is the same as $10e2$ and Python will automatically recognize scientific notation as a number. \n",
    "\n",
    "There are many mathematical operations available in the Python core library. [Here](https://en.wikibooks.org/wiki/Python_Programming/Basic_Math#Mathematical_Operators) and [here](https://docs.python.org/2/library/math.html) are references if you'd like to see what else is available. \n",
    "\n",
    "This lesson will also require a few functions from the `math` module in Python. Those are:\n",
    "\n",
    "* math.exp() for exponents, e.g. $e^2$\n",
    "* math.log() for natural log, e.g. $\\ln(100)$\n",
    "* math.pi for the constant $\\pi$"
   ]
  },
  {
   "cell_type": "markdown",
   "id": "77581ae3",
   "metadata": {},
   "source": [
    "### Packages\n",
    "\n",
    "In the above section, I mention that the `math` module in Python will be useful as we go through this lesson. A module is a group of functions or objects that have some similarity. In this case, useful mathematical functions are stored in the Python core library math module. The python core library is lightweight and has a lot of basic functionality, but when we get to domain science, we usually need the help of additonal packages. These are called **libraries**. \n",
    "\n",
    "Words, numbers, and calculations are useful, but what’s more useful are the sentences and stories we build with them. Similarly, while a lot of powerful, general tools are built into Python, specialized tools built up from these basic units live in libraries that can be called upon when needed. With languages like these, we don't need to reinvent the wheels of all of the functions we're going to use; instead, we use these many wheels and parts to build our amazing creation! \n",
    "\n",
    "Importing a library is like getting a piece of lab equipment out of a storage locker and setting it up on the bench. Libraries provide additional functionality to the basic Python package, much like a new piece of equipment adds functionality to a lab space. Just like in the lab, importing too many libraries can sometimes complicate and slow down your programs - so we only import what we need to make our creations.\n",
    "\n",
    "To import a package, we start a line with an `import` statement"
   ]
  },
  {
   "cell_type": "code",
   "execution_count": 4,
   "id": "5ebe15eb",
   "metadata": {},
   "outputs": [],
   "source": [
    "import numpy as np"
   ]
  },
  {
   "cell_type": "markdown",
   "id": "0d47ef23",
   "metadata": {},
   "source": [
    "Above I've imported the numpy library and given it a nickname, called np. Then whenever I want to call a module or function from numpy, I have an shorthand I can refer to to make things easier. Sometimes library functions are nested quite deeply, so this can be helpful. Below, let's create a `2x2`numpy array, an extremely useful format for computational nuclear engineers. "
   ]
  },
  {
   "cell_type": "code",
   "execution_count": 8,
   "id": "58cec7e5",
   "metadata": {},
   "outputs": [
    {
     "data": {
      "text/plain": [
       "array([[1, 2],\n",
       "       [3, 4]])"
      ]
     },
     "execution_count": 8,
     "metadata": {},
     "output_type": "execute_result"
    }
   ],
   "source": [
    "np.array([[1,2],[3,4]])"
   ]
  },
  {
   "cell_type": "code",
   "execution_count": 9,
   "id": "5a4c4ef1",
   "metadata": {},
   "outputs": [],
   "source": [
    "import matplotlib.pyplot as plt "
   ]
  },
  {
   "cell_type": "markdown",
   "id": "596ff9cc",
   "metadata": {},
   "source": [
    "### Data Types "
   ]
  },
  {
   "cell_type": "markdown",
   "id": "1ceff8c5",
   "metadata": {},
   "source": [
    "In the past few exercises we've used this notebook as a fancy calculator, but we can do a lot more. First, let's talk about data types. There are many basic data types in Python, and we'll cover just a few here. If you're interested, check out the [Python documentation](https://docs.python.org/3/library/stdtypes.html) for a complete overview of all data types. \n",
    "\n",
    "In python, we can check what type of object we have. For example:"
   ]
  },
  {
   "cell_type": "code",
   "execution_count": null,
   "id": "31def191",
   "metadata": {},
   "outputs": [],
   "source": [
    "type(a)"
   ]
  },
  {
   "cell_type": "markdown",
   "id": "b53ea1b1",
   "metadata": {},
   "source": [
    "That is, the variable a has an assignment of an int data type. \n",
    "\n",
    "Sometimes integers won't reach the accuracy we need, especially if we're measuring distances at $10^{-10}$cm and times in the billions of years. "
   ]
  },
  {
   "cell_type": "code",
   "execution_count": null,
   "id": "5d2f5d9a",
   "metadata": {},
   "outputs": [],
   "source": [
    "type(3.14159)"
   ]
  },
  {
   "cell_type": "markdown",
   "id": "fbc69204",
   "metadata": {},
   "source": [
    "This is an example of a floating point number. A floating point number is represented in a specific way on your computer that is a bit beyond the scope of this lesson. For now, know that the representation of this number and how much memory you allow it to have affects how close it is to the number you're intending it to be. "
   ]
  },
  {
   "cell_type": "code",
   "execution_count": null,
   "id": "9901c711",
   "metadata": {},
   "outputs": [],
   "source": [
    "type('Hello! There are lots of squirrels in Urbana')"
   ]
  },
  {
   "cell_type": "markdown",
   "id": "53a28cd3",
   "metadata": {},
   "source": [
    "This is an example of a string. In nuclear engineering, we often use floats and ints, but many fields depend on text analysis and strings. \n",
    "\n",
    "## Think-Pair-Share\n",
    "\n",
    "Why do you think different types of data exist in Python? Can you see how you would use each kind?"
   ]
  },
  {
   "cell_type": "markdown",
   "id": "0718878f",
   "metadata": {},
   "source": [
    "Earlier in this lesson, we talked about operations we could do on variables. We can perform operations on all data types in python. For example: "
   ]
  },
  {
   "cell_type": "code",
   "execution_count": 11,
   "id": "f0fdafeb",
   "metadata": {},
   "outputs": [
    {
     "name": "stdout",
     "output_type": "stream",
     "text": [
      "Hello! wyse camps are the best!\n"
     ]
    }
   ],
   "source": [
    "string1=\"Hello! \"\n",
    "string2=\"wyse camps are the best!\"\n",
    "string3 = string1 + string2\n",
    "print(string3)"
   ]
  },
  {
   "cell_type": "markdown",
   "id": "af10bb55",
   "metadata": {},
   "source": [
    "## Think-Pair-Share\n",
    "\n",
    "What do you think will happen if you try to operate on two different data types (e.g. add a string and int)? "
   ]
  },
  {
   "cell_type": "code",
   "execution_count": null,
   "id": "123ddb1f",
   "metadata": {},
   "outputs": [],
   "source": []
  },
  {
   "cell_type": "markdown",
   "id": "12e7d595",
   "metadata": {},
   "source": [
    "### Operators and Conditionals"
   ]
  },
  {
   "cell_type": "markdown",
   "id": "2adb7c6d",
   "metadata": {},
   "source": [
    "Comparison Operators:\n",
    "\n",
    "    * equal == \n",
    "    * not equal != \n",
    "    * greater than > \n",
    "    * less than <\n",
    "    * greater than or equal to >=\n",
    "    * less than or equal to <="
   ]
  },
  {
   "cell_type": "code",
   "execution_count": null,
   "id": "0e9af975",
   "metadata": {},
   "outputs": [],
   "source": []
  },
  {
   "cell_type": "code",
   "execution_count": null,
   "id": "942f9c37",
   "metadata": {},
   "outputs": [],
   "source": []
  },
  {
   "cell_type": "markdown",
   "id": "9165269d",
   "metadata": {},
   "source": [
    "Conditionals: \n",
    "\n",
    "    * if .... else\n",
    "    * while\n",
    "    * for "
   ]
  },
  {
   "cell_type": "code",
   "execution_count": null,
   "id": "0bd1be34",
   "metadata": {},
   "outputs": [],
   "source": []
  },
  {
   "cell_type": "code",
   "execution_count": null,
   "id": "4037590a",
   "metadata": {},
   "outputs": [],
   "source": []
  },
  {
   "cell_type": "markdown",
   "id": "df41d0ae",
   "metadata": {},
   "source": [
    "Logical Operators:\n",
    "    \n",
    "    * and ( inclusion of both )\n",
    "    * or ( one or other )\n",
    "    * not ( cannot include ) "
   ]
  },
  {
   "cell_type": "code",
   "execution_count": null,
   "id": "57767f81",
   "metadata": {},
   "outputs": [],
   "source": []
  },
  {
   "cell_type": "code",
   "execution_count": null,
   "id": "6fba0f3a",
   "metadata": {},
   "outputs": [],
   "source": []
  },
  {
   "cell_type": "markdown",
   "id": "2a5e57f8",
   "metadata": {},
   "source": [
    "### Data Structures\n",
    "\n",
    "Earlier in this notebook we created a 2x2 numpy array. This is something called a *data structure*, or an object that stores data in a particular way. In Python the basic data structures are: \n",
    "\n",
    "* Lists\n",
    "* Tuples\n",
    "* Sequences\n",
    "* Dictionaries "
   ]
  },
  {
   "cell_type": "code",
   "execution_count": null,
   "id": "864efdd4",
   "metadata": {},
   "outputs": [],
   "source": []
  },
  {
   "cell_type": "markdown",
   "id": "ab58b75f",
   "metadata": {},
   "source": [
    "### Function Definitions"
   ]
  },
  {
   "cell_type": "markdown",
   "id": "9f18dd42",
   "metadata": {},
   "source": [
    "In the previous cells we've dealt with an object called a variable. We can also define our own functions that can use many variables and be used over and over again. Let's see what that looks like with a simple function that multiplies three numbers together."
   ]
  },
  {
   "cell_type": "code",
   "execution_count": null,
   "id": "ecd0ee16",
   "metadata": {},
   "outputs": [],
   "source": [
    "def multiply_three_numbers(a, b, c):\n",
    "    \"\"\"\n",
    "    This function multiplies any three numbers supplied to it and \n",
    "    returns the value of the multiplication. \n",
    "    \n",
    "    inputs: a, b, c\n",
    "    output: value of all numbers multiplied together\n",
    "    \"\"\"\n",
    "    answer = a*b*c # here is where I multiply my numbers \n",
    "    return answer"
   ]
  },
  {
   "cell_type": "markdown",
   "id": "20389535",
   "metadata": {},
   "source": [
    "This function definition has a lot going on, so let's step through it together. \n",
    "\n",
    "First, functions are defined with `def` followed by the name of the function that you want to define. In this case we've called our function `multiply_three_numbers`, but it could be anything. We could call it `unicorn_rainbow` if we wanted. But it's a lot harder to go back through old code that we've written and understand what's going on if our function names are confusing. But one of the fun parts of being a programmer is that you get to name new things every day! \n",
    "\n",
    "Notice after the function name we have some contents in brackets followed by a colon `(a,b,c):`. The brackets identify what is ingested by our function, or what variables our function needs to be able to operate. In the case of this function, we will have three different variables -- `a`, `b`, and `c`. Finally, the colon tells us that this is the end of the function definition. \n",
    "\n",
    "The next few lines are bookended with `\"\"\"`. This is a special type of comment in Python called a multiline comment. This means that we can write many lines of comments and don't need to put a `#` sign at the beginning of each line. Because this multiline comment is immediately after our function definition line, that means it is something called a `docstring`, or a documentation string. Docstrings are human-readable explanations of a function, and minimally should include what the function ingests and what it will return. Docstrings are helpful because we can ask our notebook what a function does with a `?` symbol, and the docstring will be printed. If we don't have a docstring then we might not know what the function does at all. \n",
    "\n",
    "Let's try it: "
   ]
  },
  {
   "cell_type": "code",
   "execution_count": null,
   "id": "372b2819",
   "metadata": {},
   "outputs": [],
   "source": [
    "multiply_three_numbers?"
   ]
  },
  {
   "cell_type": "markdown",
   "id": "1061b5b2",
   "metadata": {},
   "source": [
    "If you loaded the defined function and executed that cell, you should see a popup at the bottom of the screen with the function docstring. \n",
    "\n",
    "Finally, the body of our function definition shows us set the variable `answer` to `a*b*c`. In Python, multiplication can be done with the `*` symbol. So we've created a new variable in our function which is the product of the three variables that are ingested by the function. After we perform the multiplication, we can see there is some text following the `#` symbol. This is something called an *inline comment*, or a note that a programmer leaves to make things clearer to others (or their future selves). **Both the docstring and inline comment are types of documentation.**\n",
    "\n",
    "The last line of our function defintion is `return answer`. A python function should `return` a variable back to the user.\n",
    "\n",
    "Let's try our function out now. "
   ]
  },
  {
   "cell_type": "code",
   "execution_count": null,
   "id": "484bba89",
   "metadata": {},
   "outputs": [],
   "source": [
    "multiply_three_numbers(3,8,33)"
   ]
  },
  {
   "cell_type": "markdown",
   "id": "1a1ff3bd",
   "metadata": {},
   "source": [
    "We can always change numbers that we pass to the function and re-execute the cell. \n",
    "\n",
    "You can also add cells if you need more space to define your variables or calculate things. You can add cells by pushing the `+` button up on the navigation bar of the notebook. You can drag cells around to reorder them with your mouse too. "
   ]
  },
  {
   "cell_type": "markdown",
   "id": "dcac8d79",
   "metadata": {},
   "source": [
    "## Think-Pair-Share\n",
    "\n",
    "Why do I want multiple types of documentation? Why do I want documentation at all?"
   ]
  },
  {
   "cell_type": "markdown",
   "id": "1a03b8c4",
   "metadata": {},
   "source": [
    "## Think-Pair-Share\n",
    "\n",
    "There are many versions of Python that exist, and many versions of packages that exist. What does that mean for your work? "
   ]
  },
  {
   "cell_type": "markdown",
   "id": "d7c158af",
   "metadata": {},
   "source": [
    "# Extra Information"
   ]
  },
  {
   "cell_type": "markdown",
   "id": "347892e0",
   "metadata": {},
   "source": [
    "In the Python language there are a huge number of functions built in to help you write your programs. I recommend searching for them in the documentation to learn about how to use them. Some very common functions you will enounter are:\n",
    "* type()\n",
    "* abs()\n",
    "* sum()\n",
    "* max()\n",
    "* len()"
   ]
  },
  {
   "cell_type": "markdown",
   "id": "b0ada7e3",
   "metadata": {},
   "source": [
    "### Some useful Python packages that I use in my work (and maybe you will too!):\n",
    "\n",
    "* matplotlib [docs](https://matplotlib.org/) [source](https://github.com/matplotlib/matplotlib)\n",
    "* numpy [docs](https://numpy.org/doc/stable/) [source](https://github.com/numpy/numpy)\n",
    "* scipy [docs](https://scipy.org/scipylib/) [source](https://github.com/scipy/scipy)\n",
    "* sympy [docs](https://docs.sympy.org/latest/index.html) [source](https://github.com/sympy/sympy)\n",
    "* pytest [docs](https://docs.pytest.org/en/6.2.x/) [source](https://github.com/pytest-dev/pytest)\n",
    "* unyt [docs](https://unyt.readthedocs.io/en/stable/) [source](https://github.com/yt-project/unyt)\n",
    "* pyne [docs](http://pyne.io/) [source](https://github.com/pyne/pyne)\n",
    "* radioactivedecay [docs](https://radioactivedecay.github.io/) [source](https://github.com/radioactivedecay/radioactivedecay)\n",
    "* serpenttools [docs](https://serpent-tools.readthedocs.io/en/latest/) [source](https://github.com/CORE-GATECH-GROUP/serpent-tools)\n",
    "* shabblona [source](https://github.com/uwescience/shablona)"
   ]
  },
  {
   "cell_type": "code",
   "execution_count": null,
   "id": "0afd6ba1",
   "metadata": {},
   "outputs": [],
   "source": []
  }
 ],
 "metadata": {
  "kernelspec": {
   "display_name": "Python 3 (ipykernel)",
   "language": "python",
   "name": "python3"
  },
  "language_info": {
   "codemirror_mode": {
    "name": "ipython",
    "version": 3
   },
   "file_extension": ".py",
   "mimetype": "text/x-python",
   "name": "python",
   "nbconvert_exporter": "python",
   "pygments_lexer": "ipython3",
   "version": "3.9.9"
  }
 },
 "nbformat": 4,
 "nbformat_minor": 5
}
